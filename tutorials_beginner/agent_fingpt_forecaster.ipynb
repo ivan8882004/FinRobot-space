{
 "cells": [
  {
   "cell_type": "markdown",
   "metadata": {},
   "source": [
    "# FinGPT-Forecaster Re-implemented with FinRobot"
   ]
  },
  {
   "cell_type": "markdown",
   "metadata": {},
   "source": [
    "In this demo, we set up an agent to emulate the behavior of model in the fingpt-forecaster project with AutoGen, which takes a company's ticker symbol, recent basic financials and market news as input and predict its stock movements.\n",
    "\n",
    "For detail of the original project, check out  [FinGPT-Forecaster](https://github.com/AI4Finance-Foundation/FinGPT/tree/master/fingpt/FinGPT_Forecaster)!  🔥[Demo](https://huggingface.co/spaces/FinGPT/FinGPT-Forecaster), [Medium Blog](https://medium.datadriveninvestor.com/introducing-fingpt-forecaster-the-future-of-robo-advisory-services-50add34e3d3c) & [Model](https://huggingface.co/FinGPT/fingpt-forecaster_dow30_llama2-7b_lora) on Huggingface🤗!\n",
    "\n",
    "This is a default bot, for more configurable demo, see [advanced tutorial](../tutorials_advanced/agent_fingpt_forecaster.ipynb)"
   ]
  },
  {
   "cell_type": "code",
   "execution_count": 15,
   "metadata": {},
   "outputs": [],
   "source": [
    "import autogen\n",
    "from finrobot.utils import get_current_date, register_keys_from_json\n",
    "from finrobot.agents.workflow import SingleAssistant"
   ]
  },
  {
   "cell_type": "markdown",
   "metadata": {},
   "source": [
    "After importing all the necessary packages and functions, we instantiate a SingleAssistant workflow \"Market_Analyst\".\n",
    "We also need the config for OpenAI & Finnhub here. \n",
    "- for openai configuration, rename OAI_CONFIG_LIST_sample to OAI_CONFIG_LIST and replace the api keys\n",
    "- for finnhub configuration, rename config_api_keys_sample to config_api_keys and replace the api keys"
   ]
  },
  {
   "cell_type": "code",
   "execution_count": 16,
   "metadata": {},
   "outputs": [],
   "source": [
    "# Read OpenAI API keys from a JSON file\n",
    "llm_config = {\n",
    "    \"config_list\": autogen.config_list_from_json(\n",
    "        \"../OAI_CONFIG_LIST\",\n",
    "        filter_dict={\"model\": [\"gpt-4o-mini\"]},\n",
    "    ),\n",
    "    \"timeout\": 120,\n",
    "    \"temperature\": 0,\n",
    "}\n",
    "\n",
    "# Register FINNHUB API keys\n",
    "register_keys_from_json(\"../config_api_keys\")"
   ]
  },
  {
   "cell_type": "markdown",
   "metadata": {},
   "source": [
    "Define the assistant, and simply start chatting!"
   ]
  },
  {
   "cell_type": "code",
   "execution_count": 17,
   "metadata": {},
   "outputs": [
    {
     "name": "stdout",
     "output_type": "stream",
     "text": [
      "\u001b[33mUser_Proxy\u001b[0m (to Market_Analyst):\n",
      "\n",
      "Use all the tools provided to retrieve information available for DJT Trump Media & Technology Group Corp upon 2024-07-25. Analyze the positive developments and potential concerns of DJT Trump Media & Technology Group Corp with 2-4 most important factors respectively and keep them concise. Most factors should be inferred from company related news. Then make a rough prediction (e.g. up/down by 2-3%) of the DJT Trump Media & Technology Group Corp stock price movement for next week. Provide a summary analysis to support your prediction.\n",
      "\n",
      "--------------------------------------------------------------------------------\n",
      "[autogen.oai.client: 07-25 10:02:04] {329} WARNING - Model gpt-4o-mini-2024-07-18 is not found. The cost will be 0. In your config_list, add field {\"price\" : [prompt_price_per_1k, completion_token_price_per_1k]} for customized pricing.\n",
      "\u001b[33mMarket_Analyst\u001b[0m (to User_Proxy):\n",
      "\n",
      "\u001b[32m***** Suggested tool call (call_Ebas3HXBunaWCbg4L7FHrf9P): get_company_profile *****\u001b[0m\n",
      "Arguments: \n",
      "{\"symbol\": \"TMTG\"}\n",
      "\u001b[32m************************************************************************************\u001b[0m\n",
      "\u001b[32m***** Suggested tool call (call_K6AWnRhBW7D9bFOgDAEWMGaU): get_company_news *****\u001b[0m\n",
      "Arguments: \n",
      "{\"symbol\": \"TMTG\", \"start_date\": \"2024-07-18\", \"end_date\": \"2024-07-25\"}\n",
      "\u001b[32m*********************************************************************************\u001b[0m\n",
      "\u001b[32m***** Suggested tool call (call_NQKdTtSKirLEo8KttPe4tKKq): get_basic_financials *****\u001b[0m\n",
      "Arguments: \n",
      "{\"symbol\": \"TMTG\", \"selected_columns\": [\"marketCapitalization\", \"peTTM\", \"revenueGrowthQuarterlyYoy\", \"netProfitMarginTTM\"]}\n",
      "\u001b[32m*************************************************************************************\u001b[0m\n",
      "\u001b[32m***** Suggested tool call (call_DNwEhEkiIJnEYkg182aVjiYw): get_stock_data *****\u001b[0m\n",
      "Arguments: \n",
      "{\"symbol\": \"TMTG\", \"start_date\": \"2024-07-18\", \"end_date\": \"2024-07-25\"}\n",
      "\u001b[32m*******************************************************************************\u001b[0m\n",
      "\n",
      "--------------------------------------------------------------------------------\n",
      "\u001b[35m\n",
      ">>>>>>>> EXECUTING FUNCTION get_company_profile...\u001b[0m\n",
      "Finnhub client initialized\n",
      "\u001b[35m\n",
      ">>>>>>>> EXECUTING FUNCTION get_company_news...\u001b[0m\n",
      "Finnhub client initialized\n",
      "No company news found for symbol TMTG from finnhub!\n",
      "\u001b[35m\n",
      ">>>>>>>> EXECUTING FUNCTION get_basic_financials...\u001b[0m\n",
      "Finnhub client initialized\n",
      "\u001b[35m\n",
      ">>>>>>>> EXECUTING FUNCTION get_stock_data...\u001b[0m\n"
     ]
    },
    {
     "name": "stderr",
     "output_type": "stream",
     "text": [
      "$TMTG: possibly delisted; No timezone found\n"
     ]
    },
    {
     "name": "stdout",
     "output_type": "stream",
     "text": [
      "\u001b[33mUser_Proxy\u001b[0m (to Market_Analyst):\n",
      "\n",
      "\u001b[33mUser_Proxy\u001b[0m (to Market_Analyst):\n",
      "\n",
      "\u001b[32m***** Response from calling tool (call_Ebas3HXBunaWCbg4L7FHrf9P) *****\u001b[0m\n",
      "Failed to find company profile for symbol TMTG from finnhub!\n",
      "\u001b[32m**********************************************************************\u001b[0m\n",
      "\n",
      "--------------------------------------------------------------------------------\n",
      "\u001b[33mUser_Proxy\u001b[0m (to Market_Analyst):\n",
      "\n",
      "\u001b[32m***** Response from calling tool (call_K6AWnRhBW7D9bFOgDAEWMGaU) *****\u001b[0m\n",
      "Empty DataFrame\n",
      "Columns: []\n",
      "Index: []\n",
      "\u001b[32m**********************************************************************\u001b[0m\n",
      "\n",
      "--------------------------------------------------------------------------------\n",
      "\u001b[33mUser_Proxy\u001b[0m (to Market_Analyst):\n",
      "\n",
      "\u001b[32m***** Response from calling tool (call_NQKdTtSKirLEo8KttPe4tKKq) *****\u001b[0m\n",
      "Failed to find basic financials for symbol TMTG from finnhub! Try a different symbol.\n",
      "\u001b[32m**********************************************************************\u001b[0m\n",
      "\n",
      "--------------------------------------------------------------------------------\n",
      "\u001b[33mUser_Proxy\u001b[0m (to Market_Analyst):\n",
      "\n",
      "\u001b[32m***** Response from calling tool (call_DNwEhEkiIJnEYkg182aVjiYw) *****\u001b[0m\n",
      "Empty DataFrame\n",
      "Columns: [Open, High, Low, Close, Adj Close, Volume]\n",
      "Index: []\n",
      "\u001b[32m**********************************************************************\u001b[0m\n",
      "\n",
      "--------------------------------------------------------------------------------\n",
      "[autogen.oai.client: 07-25 10:02:08] {329} WARNING - Model gpt-4o-mini-2024-07-18 is not found. The cost will be 0. In your config_list, add field {\"price\" : [prompt_price_per_1k, completion_token_price_per_1k]} for customized pricing.\n",
      "\u001b[33mMarket_Analyst\u001b[0m (to User_Proxy):\n",
      "\n",
      "\u001b[32m***** Suggested tool call (call_NIhqK72qJKSX07oZScH09xfm): get_company_news *****\u001b[0m\n",
      "Arguments: \n",
      "{\"symbol\": \"TMTG\", \"start_date\": \"2024-07-18\", \"end_date\": \"2024-07-25\"}\n",
      "\u001b[32m*********************************************************************************\u001b[0m\n",
      "\u001b[32m***** Suggested tool call (call_uLfdKSejNQUK0xEYsbtNLnru): get_stock_data *****\u001b[0m\n",
      "Arguments: \n",
      "{\"symbol\": \"TMTG\", \"start_date\": \"2024-07-18\", \"end_date\": \"2024-07-25\"}\n",
      "\u001b[32m*******************************************************************************\u001b[0m\n",
      "\n",
      "--------------------------------------------------------------------------------\n",
      "\u001b[35m\n",
      ">>>>>>>> EXECUTING FUNCTION get_company_news...\u001b[0m\n",
      "Finnhub client initialized\n",
      "No company news found for symbol TMTG from finnhub!\n",
      "\u001b[35m\n",
      ">>>>>>>> EXECUTING FUNCTION get_stock_data...\u001b[0m\n"
     ]
    },
    {
     "name": "stderr",
     "output_type": "stream",
     "text": [
      "$TMTG: possibly delisted; No timezone found\n"
     ]
    },
    {
     "name": "stdout",
     "output_type": "stream",
     "text": [
      "\u001b[33mUser_Proxy\u001b[0m (to Market_Analyst):\n",
      "\n",
      "\u001b[33mUser_Proxy\u001b[0m (to Market_Analyst):\n",
      "\n",
      "\u001b[32m***** Response from calling tool (call_NIhqK72qJKSX07oZScH09xfm) *****\u001b[0m\n",
      "Empty DataFrame\n",
      "Columns: []\n",
      "Index: []\n",
      "\u001b[32m**********************************************************************\u001b[0m\n",
      "\n",
      "--------------------------------------------------------------------------------\n",
      "\u001b[33mUser_Proxy\u001b[0m (to Market_Analyst):\n",
      "\n",
      "\u001b[32m***** Response from calling tool (call_uLfdKSejNQUK0xEYsbtNLnru) *****\u001b[0m\n",
      "Empty DataFrame\n",
      "Columns: [Open, High, Low, Close, Adj Close, Volume]\n",
      "Index: []\n",
      "\u001b[32m**********************************************************************\u001b[0m\n",
      "\n",
      "--------------------------------------------------------------------------------\n",
      "[autogen.oai.client: 07-25 10:02:11] {329} WARNING - Model gpt-4o-mini-2024-07-18 is not found. The cost will be 0. In your config_list, add field {\"price\" : [prompt_price_per_1k, completion_token_price_per_1k]} for customized pricing.\n",
      "\u001b[33mMarket_Analyst\u001b[0m (to User_Proxy):\n",
      "\n",
      "It appears that there is no available data for DJT Trump Media & Technology Group Corp (TMTG) regarding company profile, news, basic financials, or stock price for the specified date range. This lack of data makes it challenging to conduct a thorough analysis of the company's positive developments, potential concerns, or to make a stock price prediction.\n",
      "\n",
      "Given the absence of information, I cannot provide the requested analysis or prediction. If you have another company or a different date range in mind, please let me know, and I can assist you with that. \n",
      "\n",
      "TERMINATE\n",
      "\n",
      "--------------------------------------------------------------------------------\n",
      "Current chat finished. Resetting agents ...\n"
     ]
    }
   ],
   "source": [
    "company = \"DJT\"\n",
    "\n",
    "assitant = SingleAssistant(\n",
    "    \"Market_Analyst\",\n",
    "    llm_config,\n",
    "    # set to \"ALWAYS\" if you want to chat instead of simply receiving the prediciton\n",
    "    human_input_mode=\"NEVER\",\n",
    ")\n",
    "assitant.chat(\n",
    "    f\"Use all the tools provided to retrieve information available for {company} upon {get_current_date()}. Analyze the positive developments and potential concerns of {company} \"\n",
    "    \"with 2-4 most important factors respectively and keep them concise. Most factors should be inferred from company related news. \"\n",
    "    f\"Then make a rough prediction (e.g. up/down by 2-3%) of the {company} stock price movement for next week. Provide a summary analysis to support your prediction.\"\n",
    ")"
   ]
  }
 ],
 "metadata": {
  "kernelspec": {
   "display_name": "finrobot",
   "language": "python",
   "name": "python3"
  },
  "language_info": {
   "codemirror_mode": {
    "name": "ipython",
    "version": 3
   },
   "file_extension": ".py",
   "mimetype": "text/x-python",
   "name": "python",
   "nbconvert_exporter": "python",
   "pygments_lexer": "ipython3",
   "version": "3.10.14"
  }
 },
 "nbformat": 4,
 "nbformat_minor": 2
}
